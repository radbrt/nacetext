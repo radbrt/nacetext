{
 "cells": [
  {
   "cell_type": "code",
   "execution_count": 2,
   "metadata": {},
   "outputs": [],
   "source": [
    "import pandas as pd"
   ]
  },
  {
   "cell_type": "code",
   "execution_count": 3,
   "metadata": {},
   "outputs": [],
   "source": [
    "virk = pd.read_csv('/storage/EnhetOrgformVirksomhetArtBransje.tab', sep='\\t', encoding = \"ISO-8859-1\")"
   ]
  },
  {
   "cell_type": "code",
   "execution_count": 4,
   "metadata": {},
   "outputs": [
    {
     "data": {
      "text/plain": [
       "1901937"
      ]
     },
     "execution_count": 4,
     "metadata": {},
     "output_type": "execute_result"
    }
   ],
   "source": [
    "len(virk)"
   ]
  },
  {
   "cell_type": "code",
   "execution_count": 5,
   "metadata": {},
   "outputs": [
    {
     "data": {
      "text/html": [
       "<div>\n",
       "<style scoped>\n",
       "    .dataframe tbody tr th:only-of-type {\n",
       "        vertical-align: middle;\n",
       "    }\n",
       "\n",
       "    .dataframe tbody tr th {\n",
       "        vertical-align: top;\n",
       "    }\n",
       "\n",
       "    .dataframe thead th {\n",
       "        text-align: right;\n",
       "    }\n",
       "</style>\n",
       "<table border=\"1\" class=\"dataframe\">\n",
       "  <thead>\n",
       "    <tr style=\"text-align: right;\">\n",
       "      <th></th>\n",
       "      <th>orgnr</th>\n",
       "      <th>orgform</th>\n",
       "      <th>linjenr</th>\n",
       "      <th>tekst</th>\n",
       "    </tr>\n",
       "  </thead>\n",
       "  <tbody>\n",
       "    <tr>\n",
       "      <th>0</th>\n",
       "      <td>810033622</td>\n",
       "      <td>AS</td>\n",
       "      <td>1</td>\n",
       "      <td>Handel, engros og detalj og agenturer, herunder</td>\n",
       "    </tr>\n",
       "    <tr>\n",
       "      <th>1</th>\n",
       "      <td>810033622</td>\n",
       "      <td>AS</td>\n",
       "      <td>2</td>\n",
       "      <td>import av varer.</td>\n",
       "    </tr>\n",
       "    <tr>\n",
       "      <th>2</th>\n",
       "      <td>810034882</td>\n",
       "      <td>AS</td>\n",
       "      <td>10</td>\n",
       "      <td>Handel og innstallasjonsvirksomhet, eller anne...</td>\n",
       "    </tr>\n",
       "    <tr>\n",
       "      <th>3</th>\n",
       "      <td>810034882</td>\n",
       "      <td>AS</td>\n",
       "      <td>20</td>\n",
       "      <td>med dette, samt delta I annen virksomhet.</td>\n",
       "    </tr>\n",
       "    <tr>\n",
       "      <th>4</th>\n",
       "      <td>810059672</td>\n",
       "      <td>AS</td>\n",
       "      <td>10</td>\n",
       "      <td>Utleie av forretningseiendommer.</td>\n",
       "    </tr>\n",
       "  </tbody>\n",
       "</table>\n",
       "</div>"
      ],
      "text/plain": [
       "       orgnr orgform  linjenr  \\\n",
       "0  810033622    AS          1   \n",
       "1  810033622    AS          2   \n",
       "2  810034882    AS         10   \n",
       "3  810034882    AS         20   \n",
       "4  810059672    AS         10   \n",
       "\n",
       "                                               tekst  \n",
       "0    Handel, engros og detalj og agenturer, herunder  \n",
       "1                                   import av varer.  \n",
       "2  Handel og innstallasjonsvirksomhet, eller anne...  \n",
       "3          med dette, samt delta I annen virksomhet.  \n",
       "4                   Utleie av forretningseiendommer.  "
      ]
     },
     "execution_count": 5,
     "metadata": {},
     "output_type": "execute_result"
    }
   ],
   "source": [
    "virk.head()"
   ]
  },
  {
   "cell_type": "code",
   "execution_count": 6,
   "metadata": {},
   "outputs": [],
   "source": [
    "virk = virk.sort_values(by=['orgnr', 'linjenr'])"
   ]
  },
  {
   "cell_type": "code",
   "execution_count": 7,
   "metadata": {},
   "outputs": [
    {
     "data": {
      "text/html": [
       "<div>\n",
       "<style scoped>\n",
       "    .dataframe tbody tr th:only-of-type {\n",
       "        vertical-align: middle;\n",
       "    }\n",
       "\n",
       "    .dataframe tbody tr th {\n",
       "        vertical-align: top;\n",
       "    }\n",
       "\n",
       "    .dataframe thead th {\n",
       "        text-align: right;\n",
       "    }\n",
       "</style>\n",
       "<table border=\"1\" class=\"dataframe\">\n",
       "  <thead>\n",
       "    <tr style=\"text-align: right;\">\n",
       "      <th></th>\n",
       "      <th>orgnr</th>\n",
       "      <th>orgform</th>\n",
       "      <th>linjenr</th>\n",
       "      <th>tekst</th>\n",
       "    </tr>\n",
       "  </thead>\n",
       "  <tbody>\n",
       "    <tr>\n",
       "      <th>0</th>\n",
       "      <td>810033622</td>\n",
       "      <td>AS</td>\n",
       "      <td>1</td>\n",
       "      <td>Handel, engros og detalj og agenturer, herunder</td>\n",
       "    </tr>\n",
       "    <tr>\n",
       "      <th>1</th>\n",
       "      <td>810033622</td>\n",
       "      <td>AS</td>\n",
       "      <td>2</td>\n",
       "      <td>import av varer.</td>\n",
       "    </tr>\n",
       "    <tr>\n",
       "      <th>2</th>\n",
       "      <td>810034882</td>\n",
       "      <td>AS</td>\n",
       "      <td>10</td>\n",
       "      <td>Handel og innstallasjonsvirksomhet, eller anne...</td>\n",
       "    </tr>\n",
       "    <tr>\n",
       "      <th>3</th>\n",
       "      <td>810034882</td>\n",
       "      <td>AS</td>\n",
       "      <td>20</td>\n",
       "      <td>med dette, samt delta I annen virksomhet.</td>\n",
       "    </tr>\n",
       "    <tr>\n",
       "      <th>4</th>\n",
       "      <td>810059672</td>\n",
       "      <td>AS</td>\n",
       "      <td>10</td>\n",
       "      <td>Utleie av forretningseiendommer.</td>\n",
       "    </tr>\n",
       "  </tbody>\n",
       "</table>\n",
       "</div>"
      ],
      "text/plain": [
       "       orgnr orgform  linjenr  \\\n",
       "0  810033622    AS          1   \n",
       "1  810033622    AS          2   \n",
       "2  810034882    AS         10   \n",
       "3  810034882    AS         20   \n",
       "4  810059672    AS         10   \n",
       "\n",
       "                                               tekst  \n",
       "0    Handel, engros og detalj og agenturer, herunder  \n",
       "1                                   import av varer.  \n",
       "2  Handel og innstallasjonsvirksomhet, eller anne...  \n",
       "3          med dette, samt delta I annen virksomhet.  \n",
       "4                   Utleie av forretningseiendommer.  "
      ]
     },
     "execution_count": 7,
     "metadata": {},
     "output_type": "execute_result"
    }
   ],
   "source": [
    "virk.head()"
   ]
  },
  {
   "cell_type": "markdown",
   "metadata": {},
   "source": [
    "Hmmm... need to aggregate text... In the right order. In Oracle this would be with listagg... But in Python..."
   ]
  },
  {
   "cell_type": "code",
   "execution_count": 55,
   "metadata": {},
   "outputs": [],
   "source": [
    "virkagg = pd.DataFrame(virk.groupby('orgnr')['tekst'].apply(list))"
   ]
  },
  {
   "cell_type": "code",
   "execution_count": 56,
   "metadata": {},
   "outputs": [],
   "source": [
    "virkagg['text2'] = virkagg['tekst'].apply(lambda x: ' '.join(x))"
   ]
  },
  {
   "cell_type": "code",
   "execution_count": 57,
   "metadata": {},
   "outputs": [],
   "source": [
    "virkagg = virkagg.drop(['tekst'], axis=1)"
   ]
  },
  {
   "cell_type": "code",
   "execution_count": 80,
   "metadata": {},
   "outputs": [
    {
     "data": {
      "text/plain": [
       "1102419"
      ]
     },
     "execution_count": 80,
     "metadata": {},
     "output_type": "execute_result"
    }
   ],
   "source": [
    "len(virkagg)"
   ]
  },
  {
   "cell_type": "markdown",
   "metadata": {},
   "source": [
    "## NACE"
   ]
  },
  {
   "cell_type": "code",
   "execution_count": 22,
   "metadata": {},
   "outputs": [],
   "source": [
    "nace = pd.read_csv('/storage/EnhetNacekode.tab', sep='\\t', encoding = \"ISO-8859-1\")"
   ]
  },
  {
   "cell_type": "code",
   "execution_count": 23,
   "metadata": {},
   "outputs": [
    {
     "data": {
      "text/plain": [
       "1105014"
      ]
     },
     "execution_count": 23,
     "metadata": {},
     "output_type": "execute_result"
    }
   ],
   "source": [
    "len(nace)"
   ]
  },
  {
   "cell_type": "code",
   "execution_count": 24,
   "metadata": {},
   "outputs": [
    {
     "data": {
      "text/plain": [
       "orgnr           int64\n",
       "rekkefolge      int64\n",
       "nacekode      float64\n",
       "dtype: object"
      ]
     },
     "execution_count": 24,
     "metadata": {},
     "output_type": "execute_result"
    }
   ],
   "source": [
    "nace.dtypes"
   ]
  },
  {
   "cell_type": "code",
   "execution_count": 25,
   "metadata": {},
   "outputs": [
    {
     "data": {
      "text/html": [
       "<div>\n",
       "<style scoped>\n",
       "    .dataframe tbody tr th:only-of-type {\n",
       "        vertical-align: middle;\n",
       "    }\n",
       "\n",
       "    .dataframe tbody tr th {\n",
       "        vertical-align: top;\n",
       "    }\n",
       "\n",
       "    .dataframe thead th {\n",
       "        text-align: right;\n",
       "    }\n",
       "</style>\n",
       "<table border=\"1\" class=\"dataframe\">\n",
       "  <thead>\n",
       "    <tr style=\"text-align: right;\">\n",
       "      <th></th>\n",
       "      <th>orgnr</th>\n",
       "      <th>rekkefolge</th>\n",
       "      <th>nacekode</th>\n",
       "    </tr>\n",
       "  </thead>\n",
       "  <tbody>\n",
       "    <tr>\n",
       "      <th>0</th>\n",
       "      <td>810033622</td>\n",
       "      <td>1</td>\n",
       "      <td>68.209</td>\n",
       "    </tr>\n",
       "    <tr>\n",
       "      <th>1</th>\n",
       "      <td>810034882</td>\n",
       "      <td>1</td>\n",
       "      <td>43.210</td>\n",
       "    </tr>\n",
       "    <tr>\n",
       "      <th>2</th>\n",
       "      <td>810034882</td>\n",
       "      <td>2</td>\n",
       "      <td>47.592</td>\n",
       "    </tr>\n",
       "    <tr>\n",
       "      <th>3</th>\n",
       "      <td>810059672</td>\n",
       "      <td>1</td>\n",
       "      <td>68.209</td>\n",
       "    </tr>\n",
       "    <tr>\n",
       "      <th>4</th>\n",
       "      <td>810093382</td>\n",
       "      <td>1</td>\n",
       "      <td>68.209</td>\n",
       "    </tr>\n",
       "  </tbody>\n",
       "</table>\n",
       "</div>"
      ],
      "text/plain": [
       "       orgnr  rekkefolge  nacekode\n",
       "0  810033622           1    68.209\n",
       "1  810034882           1    43.210\n",
       "2  810034882           2    47.592\n",
       "3  810059672           1    68.209\n",
       "4  810093382           1    68.209"
      ]
     },
     "execution_count": 25,
     "metadata": {},
     "output_type": "execute_result"
    }
   ],
   "source": [
    "nace.head()"
   ]
  },
  {
   "cell_type": "code",
   "execution_count": 29,
   "metadata": {},
   "outputs": [
    {
     "data": {
      "text/html": [
       "<div>\n",
       "<style scoped>\n",
       "    .dataframe tbody tr th:only-of-type {\n",
       "        vertical-align: middle;\n",
       "    }\n",
       "\n",
       "    .dataframe tbody tr th {\n",
       "        vertical-align: top;\n",
       "    }\n",
       "\n",
       "    .dataframe thead th {\n",
       "        text-align: right;\n",
       "    }\n",
       "</style>\n",
       "<table border=\"1\" class=\"dataframe\">\n",
       "  <thead>\n",
       "    <tr style=\"text-align: right;\">\n",
       "      <th></th>\n",
       "      <th>rekkefolge</th>\n",
       "    </tr>\n",
       "    <tr>\n",
       "      <th>rekkefolge</th>\n",
       "      <th></th>\n",
       "    </tr>\n",
       "  </thead>\n",
       "  <tbody>\n",
       "    <tr>\n",
       "      <th>1</th>\n",
       "      <td>1070788</td>\n",
       "    </tr>\n",
       "    <tr>\n",
       "      <th>2</th>\n",
       "      <td>32658</td>\n",
       "    </tr>\n",
       "    <tr>\n",
       "      <th>3</th>\n",
       "      <td>1567</td>\n",
       "    </tr>\n",
       "    <tr>\n",
       "      <th>4</th>\n",
       "      <td>1</td>\n",
       "    </tr>\n",
       "  </tbody>\n",
       "</table>\n",
       "</div>"
      ],
      "text/plain": [
       "            rekkefolge\n",
       "rekkefolge            \n",
       "1              1070788\n",
       "2                32658\n",
       "3                 1567\n",
       "4                    1"
      ]
     },
     "execution_count": 29,
     "metadata": {},
     "output_type": "execute_result"
    }
   ],
   "source": [
    "nace.groupby('rekkefolge').agg({'rekkefolge': len})"
   ]
  },
  {
   "cell_type": "code",
   "execution_count": 34,
   "metadata": {},
   "outputs": [],
   "source": [
    "nace1 = nace.query(\"rekkefolge==1\")"
   ]
  },
  {
   "cell_type": "code",
   "execution_count": 58,
   "metadata": {},
   "outputs": [],
   "source": [
    "nace1 = nace1.drop(['rekkefolge'], axis=1)"
   ]
  },
  {
   "cell_type": "code",
   "execution_count": 81,
   "metadata": {},
   "outputs": [
    {
     "data": {
      "text/plain": [
       "1070788"
      ]
     },
     "execution_count": 81,
     "metadata": {},
     "output_type": "execute_result"
    }
   ],
   "source": [
    "len(nace1)"
   ]
  },
  {
   "cell_type": "code",
   "execution_count": 77,
   "metadata": {},
   "outputs": [
    {
     "data": {
      "text/html": [
       "<div>\n",
       "<style scoped>\n",
       "    .dataframe tbody tr th:only-of-type {\n",
       "        vertical-align: middle;\n",
       "    }\n",
       "\n",
       "    .dataframe tbody tr th {\n",
       "        vertical-align: top;\n",
       "    }\n",
       "\n",
       "    .dataframe thead th {\n",
       "        text-align: right;\n",
       "    }\n",
       "</style>\n",
       "<table border=\"1\" class=\"dataframe\">\n",
       "  <thead>\n",
       "    <tr style=\"text-align: right;\">\n",
       "      <th></th>\n",
       "      <th>orgnr</th>\n",
       "      <th>nacekode</th>\n",
       "    </tr>\n",
       "  </thead>\n",
       "  <tbody>\n",
       "    <tr>\n",
       "      <th>0</th>\n",
       "      <td>810033622</td>\n",
       "      <td>68.209</td>\n",
       "    </tr>\n",
       "    <tr>\n",
       "      <th>1</th>\n",
       "      <td>810034882</td>\n",
       "      <td>43.210</td>\n",
       "    </tr>\n",
       "    <tr>\n",
       "      <th>3</th>\n",
       "      <td>810059672</td>\n",
       "      <td>68.209</td>\n",
       "    </tr>\n",
       "    <tr>\n",
       "      <th>4</th>\n",
       "      <td>810093382</td>\n",
       "      <td>68.209</td>\n",
       "    </tr>\n",
       "    <tr>\n",
       "      <th>5</th>\n",
       "      <td>810094532</td>\n",
       "      <td>58.130</td>\n",
       "    </tr>\n",
       "  </tbody>\n",
       "</table>\n",
       "</div>"
      ],
      "text/plain": [
       "       orgnr  nacekode\n",
       "0  810033622    68.209\n",
       "1  810034882    43.210\n",
       "3  810059672    68.209\n",
       "4  810093382    68.209\n",
       "5  810094532    58.130"
      ]
     },
     "execution_count": 77,
     "metadata": {},
     "output_type": "execute_result"
    }
   ],
   "source": [
    "nace1.head()"
   ]
  },
  {
   "cell_type": "code",
   "execution_count": 87,
   "metadata": {},
   "outputs": [
    {
     "data": {
      "text/plain": [
       "1102419"
      ]
     },
     "execution_count": 87,
     "metadata": {},
     "output_type": "execute_result"
    }
   ],
   "source": [
    "len(virkagg)"
   ]
  },
  {
   "cell_type": "code",
   "execution_count": 86,
   "metadata": {},
   "outputs": [
    {
     "data": {
      "text/plain": [
       "1070788"
      ]
     },
     "execution_count": 86,
     "metadata": {},
     "output_type": "execute_result"
    }
   ],
   "source": [
    "len(nace1)"
   ]
  },
  {
   "cell_type": "code",
   "execution_count": 88,
   "metadata": {},
   "outputs": [],
   "source": [
    "virknace = nace1.join(virkagg, on='orgnr', how='inner')"
   ]
  },
  {
   "cell_type": "code",
   "execution_count": 90,
   "metadata": {},
   "outputs": [
    {
     "data": {
      "text/plain": [
       "1049701"
      ]
     },
     "execution_count": 90,
     "metadata": {},
     "output_type": "execute_result"
    }
   ],
   "source": [
    "len(virknace)"
   ]
  },
  {
   "cell_type": "code",
   "execution_count": 92,
   "metadata": {},
   "outputs": [
    {
     "data": {
      "text/html": [
       "<div>\n",
       "<style scoped>\n",
       "    .dataframe tbody tr th:only-of-type {\n",
       "        vertical-align: middle;\n",
       "    }\n",
       "\n",
       "    .dataframe tbody tr th {\n",
       "        vertical-align: top;\n",
       "    }\n",
       "\n",
       "    .dataframe thead th {\n",
       "        text-align: right;\n",
       "    }\n",
       "</style>\n",
       "<table border=\"1\" class=\"dataframe\">\n",
       "  <thead>\n",
       "    <tr style=\"text-align: right;\">\n",
       "      <th></th>\n",
       "      <th>orgnr</th>\n",
       "      <th>nacekode</th>\n",
       "      <th>text2</th>\n",
       "    </tr>\n",
       "  </thead>\n",
       "  <tbody>\n",
       "    <tr>\n",
       "      <th>0</th>\n",
       "      <td>810033622</td>\n",
       "      <td>68.209</td>\n",
       "      <td>Handel, engros og detalj og agenturer, herunde...</td>\n",
       "    </tr>\n",
       "    <tr>\n",
       "      <th>1</th>\n",
       "      <td>810034882</td>\n",
       "      <td>43.210</td>\n",
       "      <td>Handel og innstallasjonsvirksomhet, eller anne...</td>\n",
       "    </tr>\n",
       "    <tr>\n",
       "      <th>3</th>\n",
       "      <td>810059672</td>\n",
       "      <td>68.209</td>\n",
       "      <td>Utleie av forretningseiendommer.</td>\n",
       "    </tr>\n",
       "    <tr>\n",
       "      <th>4</th>\n",
       "      <td>810093382</td>\n",
       "      <td>68.209</td>\n",
       "      <td>Eie og drift av fast eiendom, investering i ak...</td>\n",
       "    </tr>\n",
       "    <tr>\n",
       "      <th>5</th>\n",
       "      <td>810094532</td>\n",
       "      <td>58.130</td>\n",
       "      <td>Utgi avisen Agderposten og drive annen virksom...</td>\n",
       "    </tr>\n",
       "  </tbody>\n",
       "</table>\n",
       "</div>"
      ],
      "text/plain": [
       "       orgnr  nacekode                                              text2\n",
       "0  810033622    68.209  Handel, engros og detalj og agenturer, herunde...\n",
       "1  810034882    43.210  Handel og innstallasjonsvirksomhet, eller anne...\n",
       "3  810059672    68.209                   Utleie av forretningseiendommer.\n",
       "4  810093382    68.209  Eie og drift av fast eiendom, investering i ak...\n",
       "5  810094532    58.130  Utgi avisen Agderposten og drive annen virksom..."
      ]
     },
     "execution_count": 92,
     "metadata": {},
     "output_type": "execute_result"
    }
   ],
   "source": [
    "virknace.head()"
   ]
  },
  {
   "cell_type": "markdown",
   "metadata": {},
   "source": [
    "## Slettede"
   ]
  },
  {
   "cell_type": "code",
   "execution_count": 71,
   "metadata": {},
   "outputs": [],
   "source": [
    "nace_slettede = pd.read_csv('/storage/EnhetNacekodeSlettede.tab', sep='\\t', encoding = \"ISO-8859-1\")"
   ]
  },
  {
   "cell_type": "code",
   "execution_count": 61,
   "metadata": {},
   "outputs": [],
   "source": [
    "virk_slettede = pd.read_csv('/storage/EnhetOrgformVirksomhetArtBransjeSlettede.tab', sep='\\t', encoding = \"ISO-8859-1\")"
   ]
  },
  {
   "cell_type": "code",
   "execution_count": 64,
   "metadata": {},
   "outputs": [],
   "source": [
    "virkagg_slettede = pd.DataFrame(virk_slettede.groupby('orgnr')['tekst'].apply(list))"
   ]
  },
  {
   "cell_type": "code",
   "execution_count": 66,
   "metadata": {},
   "outputs": [],
   "source": [
    "virkagg_slettede['text2'] = virkagg_slettede['tekst'].apply(lambda x: ' '.join(x))"
   ]
  },
  {
   "cell_type": "code",
   "execution_count": 68,
   "metadata": {},
   "outputs": [],
   "source": [
    "virkagg_slettede = virkagg_slettede.drop('tekst', axis=1)"
   ]
  },
  {
   "cell_type": "code",
   "execution_count": 69,
   "metadata": {},
   "outputs": [
    {
     "data": {
      "text/html": [
       "<div>\n",
       "<style scoped>\n",
       "    .dataframe tbody tr th:only-of-type {\n",
       "        vertical-align: middle;\n",
       "    }\n",
       "\n",
       "    .dataframe tbody tr th {\n",
       "        vertical-align: top;\n",
       "    }\n",
       "\n",
       "    .dataframe thead th {\n",
       "        text-align: right;\n",
       "    }\n",
       "</style>\n",
       "<table border=\"1\" class=\"dataframe\">\n",
       "  <thead>\n",
       "    <tr style=\"text-align: right;\">\n",
       "      <th></th>\n",
       "      <th>text2</th>\n",
       "    </tr>\n",
       "    <tr>\n",
       "      <th>orgnr</th>\n",
       "      <th></th>\n",
       "    </tr>\n",
       "  </thead>\n",
       "  <tbody>\n",
       "    <tr>\n",
       "      <th>810006862</th>\n",
       "      <td>Drive bunkersmegling, oljehandel og alt hva de...</td>\n",
       "    </tr>\n",
       "    <tr>\n",
       "      <th>810023112</th>\n",
       "      <td>Import og salg av anleggsmaskiner og deler til...</td>\n",
       "    </tr>\n",
       "    <tr>\n",
       "      <th>810027932</th>\n",
       "      <td>Drive handel detalj og beslektede aktiviteter,...</td>\n",
       "    </tr>\n",
       "    <tr>\n",
       "      <th>810037342</th>\n",
       "      <td>Handel samt eie og disponere fast eiendom og h...</td>\n",
       "    </tr>\n",
       "    <tr>\n",
       "      <th>810044292</th>\n",
       "      <td>Salg og produksjon av bedriftsprofilerende pro...</td>\n",
       "    </tr>\n",
       "  </tbody>\n",
       "</table>\n",
       "</div>"
      ],
      "text/plain": [
       "                                                       text2\n",
       "orgnr                                                       \n",
       "810006862  Drive bunkersmegling, oljehandel og alt hva de...\n",
       "810023112  Import og salg av anleggsmaskiner og deler til...\n",
       "810027932  Drive handel detalj og beslektede aktiviteter,...\n",
       "810037342  Handel samt eie og disponere fast eiendom og h...\n",
       "810044292  Salg og produksjon av bedriftsprofilerende pro..."
      ]
     },
     "execution_count": 69,
     "metadata": {},
     "output_type": "execute_result"
    }
   ],
   "source": [
    "virkagg_slettede.head()"
   ]
  },
  {
   "cell_type": "code",
   "execution_count": 73,
   "metadata": {},
   "outputs": [],
   "source": [
    "nace_slettede1 = nace_slettede.query('rekkefolge==1')"
   ]
  },
  {
   "cell_type": "code",
   "execution_count": 74,
   "metadata": {},
   "outputs": [],
   "source": [
    "nace_slettede1 = nace_slettede1.drop('rekkefolge', axis=1)"
   ]
  },
  {
   "cell_type": "code",
   "execution_count": 93,
   "metadata": {},
   "outputs": [],
   "source": [
    "virknace_slettede = nace_slettede1.join(virkagg_slettede, on='orgnr', how='inner')"
   ]
  },
  {
   "cell_type": "code",
   "execution_count": 94,
   "metadata": {},
   "outputs": [
    {
     "data": {
      "text/plain": [
       "505188"
      ]
     },
     "execution_count": 94,
     "metadata": {},
     "output_type": "execute_result"
    }
   ],
   "source": [
    "len(virknace_slettede)"
   ]
  },
  {
   "cell_type": "code",
   "execution_count": 95,
   "metadata": {},
   "outputs": [
    {
     "data": {
      "text/html": [
       "<div>\n",
       "<style scoped>\n",
       "    .dataframe tbody tr th:only-of-type {\n",
       "        vertical-align: middle;\n",
       "    }\n",
       "\n",
       "    .dataframe tbody tr th {\n",
       "        vertical-align: top;\n",
       "    }\n",
       "\n",
       "    .dataframe thead th {\n",
       "        text-align: right;\n",
       "    }\n",
       "</style>\n",
       "<table border=\"1\" class=\"dataframe\">\n",
       "  <thead>\n",
       "    <tr style=\"text-align: right;\">\n",
       "      <th></th>\n",
       "      <th>orgnr</th>\n",
       "      <th>nacekode</th>\n",
       "      <th>text2</th>\n",
       "    </tr>\n",
       "  </thead>\n",
       "  <tbody>\n",
       "    <tr>\n",
       "      <th>0</th>\n",
       "      <td>810006862</td>\n",
       "      <td>52.229</td>\n",
       "      <td>Drive bunkersmegling, oljehandel og alt hva de...</td>\n",
       "    </tr>\n",
       "    <tr>\n",
       "      <th>1</th>\n",
       "      <td>810023112</td>\n",
       "      <td>46.630</td>\n",
       "      <td>Import og salg av anleggsmaskiner og deler til...</td>\n",
       "    </tr>\n",
       "    <tr>\n",
       "      <th>2</th>\n",
       "      <td>810037342</td>\n",
       "      <td>68.209</td>\n",
       "      <td>Handel samt eie og disponere fast eiendom og h...</td>\n",
       "    </tr>\n",
       "    <tr>\n",
       "      <th>3</th>\n",
       "      <td>810090812</td>\n",
       "      <td>58.130</td>\n",
       "      <td>Utgi Adresseavisen som konservativt blad og å ...</td>\n",
       "    </tr>\n",
       "    <tr>\n",
       "      <th>4</th>\n",
       "      <td>810114622</td>\n",
       "      <td>47.610</td>\n",
       "      <td>Drive bokhandel og annen virksomhet som står i...</td>\n",
       "    </tr>\n",
       "  </tbody>\n",
       "</table>\n",
       "</div>"
      ],
      "text/plain": [
       "       orgnr  nacekode                                              text2\n",
       "0  810006862    52.229  Drive bunkersmegling, oljehandel og alt hva de...\n",
       "1  810023112    46.630  Import og salg av anleggsmaskiner og deler til...\n",
       "2  810037342    68.209  Handel samt eie og disponere fast eiendom og h...\n",
       "3  810090812    58.130  Utgi Adresseavisen som konservativt blad og å ...\n",
       "4  810114622    47.610  Drive bokhandel og annen virksomhet som står i..."
      ]
     },
     "execution_count": 95,
     "metadata": {},
     "output_type": "execute_result"
    }
   ],
   "source": [
    "virknace_slettede.head()"
   ]
  },
  {
   "cell_type": "code",
   "execution_count": 96,
   "metadata": {},
   "outputs": [],
   "source": [
    "allvirk = pd.concat([virknace_slettede, virknace])"
   ]
  },
  {
   "cell_type": "code",
   "execution_count": 97,
   "metadata": {},
   "outputs": [
    {
     "data": {
      "text/plain": [
       "1554889"
      ]
     },
     "execution_count": 97,
     "metadata": {},
     "output_type": "execute_result"
    }
   ],
   "source": [
    "len(allvirk)"
   ]
  },
  {
   "cell_type": "code",
   "execution_count": 99,
   "metadata": {},
   "outputs": [
    {
     "data": {
      "text/html": [
       "<div>\n",
       "<style scoped>\n",
       "    .dataframe tbody tr th:only-of-type {\n",
       "        vertical-align: middle;\n",
       "    }\n",
       "\n",
       "    .dataframe tbody tr th {\n",
       "        vertical-align: top;\n",
       "    }\n",
       "\n",
       "    .dataframe thead th {\n",
       "        text-align: right;\n",
       "    }\n",
       "</style>\n",
       "<table border=\"1\" class=\"dataframe\">\n",
       "  <thead>\n",
       "    <tr style=\"text-align: right;\">\n",
       "      <th></th>\n",
       "      <th>orgnr</th>\n",
       "      <th>nacekode</th>\n",
       "      <th>text2</th>\n",
       "    </tr>\n",
       "  </thead>\n",
       "  <tbody>\n",
       "    <tr>\n",
       "      <th>0</th>\n",
       "      <td>810006862</td>\n",
       "      <td>52.229</td>\n",
       "      <td>Drive bunkersmegling, oljehandel og alt hva de...</td>\n",
       "    </tr>\n",
       "    <tr>\n",
       "      <th>1</th>\n",
       "      <td>810023112</td>\n",
       "      <td>46.630</td>\n",
       "      <td>Import og salg av anleggsmaskiner og deler til...</td>\n",
       "    </tr>\n",
       "    <tr>\n",
       "      <th>2</th>\n",
       "      <td>810037342</td>\n",
       "      <td>68.209</td>\n",
       "      <td>Handel samt eie og disponere fast eiendom og h...</td>\n",
       "    </tr>\n",
       "    <tr>\n",
       "      <th>3</th>\n",
       "      <td>810090812</td>\n",
       "      <td>58.130</td>\n",
       "      <td>Utgi Adresseavisen som konservativt blad og å ...</td>\n",
       "    </tr>\n",
       "    <tr>\n",
       "      <th>4</th>\n",
       "      <td>810114622</td>\n",
       "      <td>47.610</td>\n",
       "      <td>Drive bokhandel og annen virksomhet som står i...</td>\n",
       "    </tr>\n",
       "  </tbody>\n",
       "</table>\n",
       "</div>"
      ],
      "text/plain": [
       "       orgnr  nacekode                                              text2\n",
       "0  810006862    52.229  Drive bunkersmegling, oljehandel og alt hva de...\n",
       "1  810023112    46.630  Import og salg av anleggsmaskiner og deler til...\n",
       "2  810037342    68.209  Handel samt eie og disponere fast eiendom og h...\n",
       "3  810090812    58.130  Utgi Adresseavisen som konservativt blad og å ...\n",
       "4  810114622    47.610  Drive bokhandel og annen virksomhet som står i..."
      ]
     },
     "execution_count": 99,
     "metadata": {},
     "output_type": "execute_result"
    }
   ],
   "source": [
    "allvirk.head()"
   ]
  },
  {
   "cell_type": "code",
   "execution_count": 101,
   "metadata": {},
   "outputs": [],
   "source": [
    "allvirk.reset_index().to_feather('/storage/alle_virksomheter.feather')"
   ]
  },
  {
   "cell_type": "code",
   "execution_count": null,
   "metadata": {},
   "outputs": [],
   "source": []
  }
 ],
 "metadata": {
  "kernelspec": {
   "display_name": "Python 3",
   "language": "python",
   "name": "python3"
  },
  "language_info": {
   "codemirror_mode": {
    "name": "ipython",
    "version": 3
   },
   "file_extension": ".py",
   "mimetype": "text/x-python",
   "name": "python",
   "nbconvert_exporter": "python",
   "pygments_lexer": "ipython3",
   "version": "3.6.5"
  }
 },
 "nbformat": 4,
 "nbformat_minor": 2
}
